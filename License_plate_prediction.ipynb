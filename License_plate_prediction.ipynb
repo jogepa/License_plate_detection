{
  "nbformat": 4,
  "nbformat_minor": 0,
  "metadata": {
    "colab": {
      "provenance": [],
      "authorship_tag": "ABX9TyOxNxiCpXB4knu0Z9LJacde",
      "include_colab_link": true
    },
    "kernelspec": {
      "name": "python3",
      "display_name": "Python 3"
    },
    "language_info": {
      "name": "python"
    }
  },
  "cells": [
    {
      "cell_type": "markdown",
      "metadata": {
        "id": "view-in-github",
        "colab_type": "text"
      },
      "source": [
        "<a href=\"https://colab.research.google.com/github/jogepa/License_plate_detection/blob/main/License_plate_prediction.ipynb\" target=\"_parent\"><img src=\"https://colab.research.google.com/assets/colab-badge.svg\" alt=\"Open In Colab\"/></a>"
      ]
    },
    {
      "cell_type": "markdown",
      "source": [
        "## Import requiered dependencies"
      ],
      "metadata": {
        "id": "0bKdSMvcKuXA"
      }
    },
    {
      "cell_type": "code",
      "execution_count": 1,
      "metadata": {
        "colab": {
          "base_uri": "https://localhost:8080/"
        },
        "id": "nGUqgqJODhzc",
        "outputId": "3155c376-4959-4dc2-f3d8-40bee3f162c9"
      },
      "outputs": [
        {
          "output_type": "stream",
          "name": "stdout",
          "text": [
            "Mounted at /content/gdrive\n"
          ]
        }
      ],
      "source": [
        "from google.colab import drive\n",
        "drive.mount(\"/content/gdrive\")"
      ]
    },
    {
      "cell_type": "code",
      "source": [
        "#Importing libraries\n",
        "import cv2\n",
        "import numpy as np\n",
        "import pandas as pd\n",
        "\n",
        "%matplotlib inline\n",
        "import matplotlib.pyplot as plt \n",
        "from tensorflow.keras.models import load_model"
      ],
      "metadata": {
        "id": "SNLlz9OGD2HE"
      },
      "execution_count": 8,
      "outputs": []
    },
    {
      "cell_type": "markdown",
      "source": [
        "#Loading Preprocessed Images\n"
      ],
      "metadata": {
        "id": "Tfu7xwSnKzdd"
      }
    },
    {
      "cell_type": "code",
      "source": [
        "#Load individual images\n",
        "chars = np.load('/content/gdrive/Shareddrives/Character_images/plate_chars.npy')\n",
        "print(\"Image of individual characters loaded\")"
      ],
      "metadata": {
        "colab": {
          "base_uri": "https://localhost:8080/"
        },
        "id": "o3hBRdgtDyu6",
        "outputId": "1ca2f013-f692-4fcf-e1e5-587fa8e7e141"
      },
      "execution_count": 5,
      "outputs": [
        {
          "output_type": "stream",
          "name": "stdout",
          "text": [
            "Image of individual characters loaded\n"
          ]
        }
      ]
    },
    {
      "cell_type": "code",
      "source": [
        "#Show individual images\n",
        "for i in range(chars.shape[0]):\n",
        "    plt.subplot(1, chars.shape[0], i+1)\n",
        "    plt.imshow(chars[i], cmap='gray')\n",
        "    plt.axis('off')"
      ],
      "metadata": {
        "colab": {
          "base_uri": "https://localhost:8080/",
          "height": 166
        },
        "id": "yWR7rUmUD70_",
        "outputId": "e1632f2d-0dfa-42d7-e84d-43abe97e4c2a"
      },
      "execution_count": 6,
      "outputs": [
        {
          "output_type": "display_data",
          "data": {
            "text/plain": [
              "<Figure size 640x480 with 6 Axes>"
            ],
            "image/png": "[encoded data removed]"
          },
          "metadata": {}
        }
      ]
    },
    {
      "cell_type": "markdown",
      "source": [
        "## Predicting using CNNs"
      ],
      "metadata": {
        "id": "52UMnDh5D_Z-"
      }
    },
    {
      "cell_type": "code",
      "source": [
        "%cd gdrive/Shareddrives/Character_images/\n",
        "\n",
        "#  Load models (previously trained in the Characters_NN notebook)\n",
        "model_name = \"single_Conv2D_24by24.h5\"\n",
        "model = load_model(model_name)\n",
        "print(\"Loaded model from disk\")\n",
        "\n",
        "model_name2 = \"3_Conv2D_24by24+2_20by20.h5\"\n",
        "model2 = load_model(model_name2)\n",
        "print(\"Loaded model2 from disk\")\n",
        "\n",
        "model_name3 = \"3_Conv2D_7by7.h5\"\n",
        "model3 = load_model(model_name3)\n",
        "print(\"Loaded model3 from disk\")\n",
        "\n",
        "model_name4 = \"1_Conv2D_7by7.h5\"\n",
        "model4 = load_model(model_name4)\n",
        "print(\"Loaded model4 from disk\")"
      ],
      "metadata": {
        "colab": {
          "base_uri": "https://localhost:8080/"
        },
        "id": "mkxLilCEEGoy",
        "outputId": "5748f695-dbaa-45c5-f1f6-0d881885cd32"
      },
      "execution_count": 9,
      "outputs": [
        {
          "output_type": "stream",
          "name": "stdout",
          "text": [
            "[Errno 2] No such file or directory: 'gdrive/Shareddrives/Character_images/'\n",
            "/content/gdrive/Shareddrives/Character_images\n",
            "Loaded model from disk\n",
            "Loaded model2 from disk\n",
            "Loaded model3 from disk\n",
            "Loaded model4 from disk\n",
            "Loaded model5 from disk\n"
          ]
        }
      ]
    },
    {
      "cell_type": "code",
      "source": [
        "def fix_dimension(img): \n",
        "  new_img = np.zeros((28,28,3))\n",
        "  for i in range(3):\n",
        "    new_img[:,:,i] = img\n",
        "  return new_img\n",
        "  \n",
        "def predict_plate(X, model):\n",
        "    dic = {}\n",
        "    characters = '0123456789ABCDEFGHIJKLMNOPQRSTUVWXYZ'\n",
        "    for i,c in enumerate(characters):\n",
        "        dic[i] = c\n",
        "\n",
        "    output = []\n",
        "    for i,ch in enumerate(X): #iterating over the characters\n",
        "        img_ = cv2.resize(ch, (28,28))\n",
        "        img = fix_dimension(img_)\n",
        "        img = img.reshape(1,28,28,3) #preparing image for the model\n",
        "        y_ = model.predict(img, verbose = 0)[0] #predicting the class\n",
        "        max_value = np.max(y_)\n",
        "        character = dic[np.where(y_ == max_value)[0][0]]\n",
        "        output.append(character) #storing the result in a list\n",
        "        \n",
        "    plate_number = ''.join(output)\n",
        "    \n",
        "    return plate_number"
      ],
      "metadata": {
        "id": "sq0XadI5Es08"
      },
      "execution_count": 10,
      "outputs": []
    },
    {
      "cell_type": "code",
      "source": [
        "#Printing plate detections\n",
        "\n",
        "plate_output = predict_plate(chars, model)\n",
        "print(\"model = \", plate_output)\n",
        "\n",
        "plate_output2 = predict_plate(chars, model2)\n",
        "print(\"model 2 = \",plate_output2)\n",
        "\n",
        "plate_output3 = predict_plate(chars, model3)\n",
        "print(\"model 3 = \",plate_output3)\n",
        "\n",
        "plate_output4 = predict_plate(chars, model4)\n",
        "print(\"model 4 =\",plate_output4)\n"
      ],
      "metadata": {
        "colab": {
          "base_uri": "https://localhost:8080/"
        },
        "id": "5GLuXSc0EtZ3",
        "outputId": "cf5bec43-fddc-4169-99b8-969fcbffded7"
      },
      "execution_count": 12,
      "outputs": [
        {
          "output_type": "stream",
          "name": "stdout",
          "text": [
            "model =  ALR4B6\n",
            "model 2 =  ALR486\n",
            "model 3 =  ALR486\n",
            "model 4 = ALR4B6\n",
            "model 5 =  ALR406\n"
          ]
        }
      ]
    },
    {
      "cell_type": "code",
      "source": [
        "#print final decision\n",
        "print(\"Plate:\", predict_plate(chars, model))"
      ],
      "metadata": {
        "colab": {
          "base_uri": "https://localhost:8080/"
        },
        "id": "tua8j-8gE4Sj",
        "outputId": "52ccc182-23e5-4fcc-a7a8-0f34ecdd8ab1"
      },
      "execution_count": 16,
      "outputs": [
        {
          "output_type": "stream",
          "name": "stdout",
          "text": [
            "Plate: ALR4B6\n"
          ]
        }
      ]
    }
  ]
}